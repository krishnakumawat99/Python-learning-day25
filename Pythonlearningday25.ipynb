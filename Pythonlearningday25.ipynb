{
  "nbformat": 4,
  "nbformat_minor": 0,
  "metadata": {
    "colab": {
      "provenance": []
    },
    "kernelspec": {
      "name": "python3",
      "display_name": "Python 3"
    },
    "language_info": {
      "name": "python"
    }
  },
  "cells": [
    {
      "cell_type": "code",
      "source": [
        "BankAccount(name) #name=aa=piyush"
      ],
      "metadata": {
        "id": "47AKBkrTL-tC"
      },
      "execution_count": null,
      "outputs": []
    },
    {
      "cell_type": "code",
      "source": [
        "class BankAccount:\n",
        "  def __init__(self,accountName,amount=0):\n",
        "    self.accountName=accountName\n",
        "    self.amount=amount\n",
        "\n",
        "  def deposit(self,deposit_amount):\n",
        "    if deposit_amount>0:\n",
        "     self.amount+=deposit_amount\n",
        "     print(f\"Amount {deposit_amount} deposited in your account {self.accountName}\")\n",
        "     return\n",
        "    else:\n",
        "      print(\"Amount value is in negative\")\n",
        "      return\n",
        "  def withdraw(self,amount):\n",
        "    if amount>0 and amount<=self.amount:\n",
        "      self.amount -= amount\n",
        "      return f\"After withdraw - balance is {self.amount}\"\n",
        "    else:\n",
        "      return \"Insufficient balance\"\n",
        "\n",
        "  def check_amount(self):\n",
        "    print(f\"Your account balance is {self.amount}\")\n",
        "\n"
      ],
      "metadata": {
        "id": "_2Y8yO3YIBDU"
      },
      "execution_count": null,
      "outputs": []
    },
    {
      "cell_type": "code",
      "source": [
        "class Customer:\n",
        "  def __init__(self,name):\n",
        "    self.name=name\n",
        "    self.account=BankAccount(name) # account=> reference to the account number, new account\n",
        "\n",
        "\n",
        "  def deposit_to_account(self,amount):\n",
        "    return self.account.deposit(amount)\n",
        "\n",
        "\n",
        "  def withdraw_from_account(self,amount):\n",
        "    return self.account.withdraw(amount)\n",
        "\n",
        "\n",
        "# class=> instance variable obj.variable\n"
      ],
      "metadata": {
        "id": "xLO2MBS0JnD5"
      },
      "execution_count": null,
      "outputs": []
    },
    {
      "cell_type": "code",
      "source": [
        "class Bank:\n",
        "  def __init__(self):\n",
        "    self.customers =[]\n",
        "\n",
        "  def customers_add(self,customer):\n",
        "    self.customers.append(customer)\n",
        "\n",
        "\n"
      ],
      "metadata": {
        "id": "wfD89xnDTVXb"
      },
      "execution_count": null,
      "outputs": []
    },
    {
      "cell_type": "code",
      "source": [
        "b=Bank()\n",
        "c1=Customer(\"piyush\")\n",
        "b.customers_add(c1)\n",
        "b.customers\n",
        "\n",
        "c2=Customer(\"rahul\")\n",
        "b.customers_add(c2)\n",
        "b.customers"
      ],
      "metadata": {
        "colab": {
          "base_uri": "https://localhost:8080/"
        },
        "id": "IB8GK_6PT5hi",
        "outputId": "6f7cca8b-4f4b-43e6-e375-d84a3d5fdcf3"
      },
      "execution_count": null,
      "outputs": [
        {
          "output_type": "execute_result",
          "data": {
            "text/plain": [
              "[<__main__.Customer at 0x78abfeeaf5d0>, <__main__.Customer at 0x78abec76ab90>]"
            ]
          },
          "metadata": {},
          "execution_count": 40
        }
      ]
    },
    {
      "cell_type": "code",
      "source": [
        "c1=Customer(\"piyush\")\n",
        "c1.deposit_to_account(400)\n",
        "c1.withdraw_from_account(10)\n"
      ],
      "metadata": {
        "colab": {
          "base_uri": "https://localhost:8080/",
          "height": 53
        },
        "id": "VfEGHr06KXGx",
        "outputId": "76966853-caba-4bb5-b8b0-5eee4fae86ae"
      },
      "execution_count": null,
      "outputs": [
        {
          "output_type": "stream",
          "name": "stdout",
          "text": [
            "Amount 400 deposited in your account piyush\n"
          ]
        },
        {
          "output_type": "execute_result",
          "data": {
            "text/plain": [
              "'After withdraw - balance is 390'"
            ],
            "application/vnd.google.colaboratory.intrinsic+json": {
              "type": "string"
            }
          },
          "metadata": {},
          "execution_count": 33
        }
      ]
    },
    {
      "cell_type": "code",
      "source": [
        "b1=BankAccount(123456,5000)\n",
        "b1.withdraw(1000)\n",
        "b1.check_amount()"
      ],
      "metadata": {
        "colab": {
          "base_uri": "https://localhost:8080/"
        },
        "id": "KkDt_5m2JLMt",
        "outputId": "ec9cc011-20fc-404a-8258-4b4d7e061aeb"
      },
      "execution_count": null,
      "outputs": [
        {
          "output_type": "stream",
          "name": "stdout",
          "text": [
            "Your account balance is 4000\n"
          ]
        }
      ]
    }
  ]
}